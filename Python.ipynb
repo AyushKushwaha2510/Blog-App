{
  "nbformat": 4,
  "nbformat_minor": 0,
  "metadata": {
    "colab": {
      "provenance": [],
      "gpuType": "T4",
      "authorship_tag": "ABX9TyOC648M65YzkprlYvqhfSNF",
      "include_colab_link": true
    },
    "kernelspec": {
      "name": "python3",
      "display_name": "Python 3"
    },
    "language_info": {
      "name": "python"
    }
  },
  "cells": [
    {
      "cell_type": "markdown",
      "metadata": {
        "id": "view-in-github",
        "colab_type": "text"
      },
      "source": [
        "<a href=\"https://colab.research.google.com/github/AyushKushwaha2510/Blog-App/blob/main/Python.ipynb\" target=\"_parent\"><img src=\"https://colab.research.google.com/assets/colab-badge.svg\" alt=\"Open In Colab\"/></a>"
      ]
    },
    {
      "cell_type": "markdown",
      "source": [
        "Write a progaram to swap numbers"
      ],
      "metadata": {
        "id": "zISuA9EH-B7x"
      }
    },
    {
      "cell_type": "code",
      "execution_count": null,
      "metadata": {
        "colab": {
          "base_uri": "https://localhost:8080/"
        },
        "id": "D5ZVyJ1o2qMy",
        "outputId": "76c3e541-1d55-4f6c-c437-08c1f9b03388"
      },
      "outputs": [
        {
          "output_type": "stream",
          "name": "stdout",
          "text": [
            "6 5\n"
          ]
        }
      ],
      "source": [
        "a, b = 5, 6\n",
        "b, a = a, b\n",
        "print(a, b)"
      ]
    },
    {
      "cell_type": "code",
      "source": [
        "_hulk = 1000\n",
        "_thor = 800\n",
        "print(\"Hulk power = \", _hulk)\n",
        "print(\"Thor power = \", _thor)\n",
        "_hulk, _thor = _thor, _hulk\n",
        "print(\"After Swap\")\n",
        "print(\"Hulk power = \", _hulk)\n",
        "print(\"Thor power = \", _thor)"
      ],
      "metadata": {
        "colab": {
          "base_uri": "https://localhost:8080/"
        },
        "id": "9Yab_iJi_nRd",
        "outputId": "4dfc7f99-01cd-40a8-b609-e668fdf3f4cc"
      },
      "execution_count": null,
      "outputs": [
        {
          "output_type": "stream",
          "name": "stdout",
          "text": [
            "Hulk power =  1000\n",
            "Thor power =  800\n",
            "After Swap\n",
            "Hulk power =  800\n",
            "Thor power =  1000\n"
          ]
        }
      ]
    },
    {
      "cell_type": "markdown",
      "source": [
        "TypeCasting :\n",
        "hulk strenght level is recorded as a string input 1000, convert it into an inteeger and increase it by 200"
      ],
      "metadata": {
        "id": "BdYp_gNwAiDB"
      }
    },
    {
      "cell_type": "code",
      "source": [],
      "metadata": {
        "id": "HEp4xFKcBoiY"
      },
      "execution_count": null,
      "outputs": []
    },
    {
      "cell_type": "markdown",
      "source": [],
      "metadata": {
        "id": "Pj87moxBEdM0"
      }
    },
    {
      "cell_type": "markdown",
      "source": [],
      "metadata": {
        "id": "mmOjzVVeEnf4"
      }
    },
    {
      "cell_type": "markdown",
      "source": [
        "Thor hammer weight is 5000 , but you need to calculate the gravitational force which requies it as a float"
      ],
      "metadata": {
        "id": "mO1vpyfRA13K"
      }
    },
    {
      "cell_type": "code",
      "source": [],
      "metadata": {
        "id": "japiOTVFBpVb"
      },
      "execution_count": null,
      "outputs": []
    },
    {
      "cell_type": "markdown",
      "source": [
        "Locy gets input in seconds as strings = \"3600\". Convert it into an integer and then to hours. Show final result as a float"
      ],
      "metadata": {
        "id": "RcUCupVWBFhu"
      }
    },
    {
      "cell_type": "code",
      "source": [],
      "metadata": {
        "id": "6-zsQRFKBp-C"
      },
      "execution_count": null,
      "outputs": []
    },
    {
      "cell_type": "markdown",
      "source": [
        "IronMan recorded seven hits outoff ten shots, both integers. Convert them into float and calculatet the accuracy percentage.\n"
      ],
      "metadata": {
        "id": "rRP3JtNyBXSO"
      }
    },
    {
      "cell_type": "code",
      "source": [
        "hits, total_shots = 7, 10\n",
        "acc = float(hits/total_shots) * 100\n",
        "print(\"Acc % is :\", acc)\n",
        "print(f\"Acc % is : {acc:.2f}\")\n"
      ],
      "metadata": {
        "colab": {
          "base_uri": "https://localhost:8080/"
        },
        "id": "BEeYujhCBqb_",
        "outputId": "1a83d8c7-a9ea-489b-a0dd-1b44c8c578fd"
      },
      "execution_count": null,
      "outputs": [
        {
          "output_type": "stream",
          "name": "stdout",
          "text": [
            "Acc % is : 70.0\n",
            "Acc % is : 70.00\n"
          ]
        }
      ]
    },
    {
      "cell_type": "markdown",
      "source": [
        "# Object Referencing\n",
        "\n",
        "```\n",
        "# This is formatted as code\n",
        "```\n",
        "[link text](https://)\n"
      ],
      "metadata": {
        "id": "6OpYm-xhEo1B"
      }
    },
    {
      "cell_type": "markdown",
      "source": [
        "Python Variable hold references to objects, not the actual objects themselves"
      ],
      "metadata": {
        "id": "5r_gMGOGFZEm"
      }
    },
    {
      "cell_type": "markdown",
      "source": [],
      "metadata": {
        "id": "bEwdcdukHJBS"
      }
    },
    {
      "cell_type": "code",
      "source": [
        "a = [1, 2, 3]\n",
        "b = a\n",
        "print(\"a original : \", a)\n",
        "b.append(4)\n",
        "print(\"a new :\", a)\n",
        "print(\"b : \", b)"
      ],
      "metadata": {
        "colab": {
          "base_uri": "https://localhost:8080/"
        },
        "id": "-DF88MArEsGT",
        "outputId": "14e716c6-6ca8-46f4-bfb7-9ae9512f3a2f"
      },
      "execution_count": null,
      "outputs": [
        {
          "output_type": "stream",
          "name": "stdout",
          "text": [
            "a original :  [1, 2, 3]\n",
            "a new : [1, 2, 3, 4]\n",
            "b :  [1, 2, 3, 4]\n"
          ]
        }
      ]
    },
    {
      "cell_type": "markdown",
      "source": [
        "Re-assinging a variable does not affect other variables referencing the same object unless explicitly updated"
      ],
      "metadata": {
        "id": "FRIt43YPHcEr"
      }
    },
    {
      "cell_type": "code",
      "source": [
        "a = [1, 2, 3]\n",
        "b = a\n",
        "b = [4, 5, 6]\n",
        "print(\"a :\", a)\n",
        "print(\"b :\", b)"
      ],
      "metadata": {
        "colab": {
          "base_uri": "https://localhost:8080/"
        },
        "id": "eQIA6vQUHQwS",
        "outputId": "9c744b50-174e-4d4f-b04b-3b359a6e3e5d"
      },
      "execution_count": null,
      "outputs": [
        {
          "output_type": "stream",
          "name": "stdout",
          "text": [
            "a : [1, 2, 3]\n",
            "b : [4, 5, 6]\n"
          ]
        }
      ]
    },
    {
      "cell_type": "code",
      "source": [
        "shield = ['vibranium', 'round']\n",
        "copy_shield = shield\n",
        "print(\"Original Shield is\", shield)\n",
        "print(\"Wolverine changes the material of shield\")\n",
        "copy_shield = 'adamantium'\n",
        "print(\"New_shield\", shield)"
      ],
      "metadata": {
        "colab": {
          "base_uri": "https://localhost:8080/"
        },
        "id": "4P92jFjyIEpb",
        "outputId": "04268b4a-17e7-43be-dc92-ac0dd9f7402c"
      },
      "execution_count": null,
      "outputs": [
        {
          "output_type": "stream",
          "name": "stdout",
          "text": [
            "Original Shield is ['vibranium', 'round']\n",
            "Wolverine changes the material of shield\n",
            "New_shield ['vibranium', 'round']\n"
          ]
        }
      ]
    },
    {
      "cell_type": "markdown",
      "source": [
        "Removing a variable\n"
      ],
      "metadata": {
        "id": "scdWX0TvLDkB"
      }
    },
    {
      "cell_type": "code",
      "source": [
        "a = 10\n",
        "del a\n",
        "print(\"a :\", a)"
      ],
      "metadata": {
        "colab": {
          "base_uri": "https://localhost:8080/",
          "height": 176
        },
        "id": "xZJ4BUsrLBbk",
        "outputId": "d4632d28-d507-480e-8250-4e48fc1f56e1"
      },
      "execution_count": null,
      "outputs": [
        {
          "output_type": "error",
          "ename": "NameError",
          "evalue": "name 'a' is not defined",
          "traceback": [
            "\u001b[0;31m---------------------------------------------------------------------------\u001b[0m",
            "\u001b[0;31mNameError\u001b[0m                                 Traceback (most recent call last)",
            "\u001b[0;32m/tmp/ipython-input-1110258851.py\u001b[0m in \u001b[0;36m<cell line: 0>\u001b[0;34m()\u001b[0m\n\u001b[1;32m      1\u001b[0m \u001b[0ma\u001b[0m \u001b[0;34m=\u001b[0m \u001b[0;36m10\u001b[0m\u001b[0;34m\u001b[0m\u001b[0;34m\u001b[0m\u001b[0m\n\u001b[1;32m      2\u001b[0m \u001b[0;32mdel\u001b[0m \u001b[0ma\u001b[0m\u001b[0;34m\u001b[0m\u001b[0;34m\u001b[0m\u001b[0m\n\u001b[0;32m----> 3\u001b[0;31m \u001b[0mprint\u001b[0m\u001b[0;34m(\u001b[0m\u001b[0;34m\"a :\"\u001b[0m\u001b[0;34m,\u001b[0m \u001b[0ma\u001b[0m\u001b[0;34m)\u001b[0m\u001b[0;34m\u001b[0m\u001b[0;34m\u001b[0m\u001b[0m\n\u001b[0m",
            "\u001b[0;31mNameError\u001b[0m: name 'a' is not defined"
          ]
        }
      ]
    },
    {
      "cell_type": "code",
      "source": [
        "x = ['apple', 'banana', 'orange', 'mango', 'pineapple']\n",
        "del x[0]\n",
        "print(\"updated list :\",x)\n",
        "del x[2:4]\n",
        "print(\"updated list :\",x)"
      ],
      "metadata": {
        "colab": {
          "base_uri": "https://localhost:8080/"
        },
        "id": "mv3YISOiLY6X",
        "outputId": "baece36e-403f-4bee-9e4b-5422549b408e"
      },
      "execution_count": null,
      "outputs": [
        {
          "output_type": "stream",
          "name": "stdout",
          "text": [
            "updated list : ['banana', 'orange', 'mango', 'pineapple']\n",
            "updated list : ['banana', 'orange']\n"
          ]
        }
      ]
    }
  ]
}